{
 "cells": [
  {
   "cell_type": "code",
   "execution_count": null,
   "metadata": {},
   "outputs": [
    {
     "name": "stdout",
     "output_type": "stream",
     "text": [
      "[WinError 123] The filename, directory name, or volume label syntax is incorrect: \"'C:\\\\Users\\\\faris\\\\Documents\\\\GitHub\\\\fundemo510' ;\"\n",
      "C:\\Users\\faris\\Documents\\GitHub\\fundemo510\n"
     ]
    }
   ],
   "source": [
    "#import os\n",
    "\n",
    "#os.getcwd()\n",
    "%cd 'C:\\Users\\faris\\Documents\\GitHub\\fundemo510' ;\n",
    "! streamlit run Mayo.py\n"
   ]
  },
  {
   "cell_type": "code",
   "execution_count": 8,
   "metadata": {},
   "outputs": [
    {
     "name": "stdout",
     "output_type": "stream",
     "text": [
      "Collecting SQLAlchemy\n"
     ]
    },
    {
     "name": "stderr",
     "output_type": "stream",
     "text": [
      "WARNING: You are using pip version 20.2.2; however, version 20.2.3 is available.\n",
      "You should consider upgrading via the 'c:\\users\\faris\\anaconda3\\envs\\faris\\python.exe -m pip install --upgrade pip' command.\n"
     ]
    },
    {
     "name": "stdout",
     "output_type": "stream",
     "text": [
      "  Downloading SQLAlchemy-1.3.19-cp37-cp37m-win_amd64.whl (1.2 MB)\n",
      "Installing collected packages: SQLAlchemy\n",
      "Successfully installed SQLAlchemy-1.3.19\n"
     ]
    }
   ],
   "source": [
    "!pip install SQLAlchemy"
   ]
  },
  {
   "cell_type": "code",
   "execution_count": 5,
   "metadata": {},
   "outputs": [
    {
     "data": {
      "text/plain": [
       "'C:\\\\Users\\\\faris\\\\Documents\\\\GitHub\\\\fundemo510'"
      ]
     },
     "execution_count": 5,
     "metadata": {},
     "output_type": "execute_result"
    }
   ],
   "source": [
    "import os\n",
    "\n",
    "os.getcwd()"
   ]
  },
  {
   "cell_type": "code",
   "execution_count": null,
   "metadata": {},
   "outputs": [],
   "source": [
    "hide_streamlit_style = \"\"\"\n",
    "            <style>\n",
    "            #MainMenu {visibility: hidden;}\n",
    "            footer {visibility: hidden;}\n",
    "            </style>\n",
    "            \"\"\"\n",
    "st.markdown(hide_streamlit_style, unsafe_allow_html=True) "
   ]
  },
  {
   "cell_type": "code",
   "execution_count": 11,
   "metadata": {},
   "outputs": [
    {
     "ename": "NameError",
     "evalue": "name 'app' is not defined",
     "output_type": "error",
     "traceback": [
      "\u001b[1;31m---------------------------------------------------------------------------\u001b[0m",
      "\u001b[1;31mNameError\u001b[0m                                 Traceback (most recent call last)",
      "\u001b[1;32m<ipython-input-11-e59dff744712>\u001b[0m in \u001b[0;36m<module>\u001b[1;34m\u001b[0m\n\u001b[0;32m      6\u001b[0m     \u001b[0mfunc\u001b[0m\u001b[1;33m(\u001b[0m\u001b[1;33m)\u001b[0m\u001b[1;33m\u001b[0m\u001b[1;33m\u001b[0m\u001b[0m\n\u001b[0;32m      7\u001b[0m \u001b[1;33m\u001b[0m\u001b[0m\n\u001b[1;32m----> 8\u001b[1;33m \u001b[1;33m@\u001b[0m\u001b[0mapp\u001b[0m\u001b[1;33m.\u001b[0m\u001b[0mroute\u001b[0m\u001b[1;33m(\u001b[0m\u001b[1;34m'/shutdown'\u001b[0m\u001b[1;33m,\u001b[0m \u001b[0mmethods\u001b[0m\u001b[1;33m=\u001b[0m\u001b[1;33m[\u001b[0m\u001b[1;34m'POST'\u001b[0m\u001b[1;33m]\u001b[0m\u001b[1;33m)\u001b[0m\u001b[1;33m\u001b[0m\u001b[1;33m\u001b[0m\u001b[0m\n\u001b[0m\u001b[0;32m      9\u001b[0m \u001b[1;32mdef\u001b[0m \u001b[0mshutdown\u001b[0m\u001b[1;33m(\u001b[0m\u001b[1;33m)\u001b[0m\u001b[1;33m:\u001b[0m\u001b[1;33m\u001b[0m\u001b[1;33m\u001b[0m\u001b[0m\n\u001b[0;32m     10\u001b[0m     \u001b[0mshutdown_server\u001b[0m\u001b[1;33m(\u001b[0m\u001b[1;33m)\u001b[0m\u001b[1;33m\u001b[0m\u001b[1;33m\u001b[0m\u001b[0m\n",
      "\u001b[1;31mNameError\u001b[0m: name 'app' is not defined"
     ]
    }
   ],
   "source": [
    "from flask import request\n",
    "def shutdown_server():\n",
    "    func = request.environ.get('werkzeug.server.shutdown')\n",
    "    if func is None:\n",
    "        raise RuntimeError('Not running with the Werkzeug Server')\n",
    "    func()\n",
    "\n",
    "@app.route('/shutdown', methods=['POST'])\n",
    "def shutdown():\n",
    "    shutdown_server()\n",
    "    return 'Server shutting down...'"
   ]
  },
  {
   "cell_type": "code",
   "execution_count": 1,
   "metadata": {},
   "outputs": [
    {
     "data": {
      "text/plain": [
       "'C:\\\\Users\\\\faris\\\\Documents\\\\GitHub\\\\test2'"
      ]
     },
     "execution_count": 1,
     "metadata": {},
     "output_type": "execute_result"
    }
   ],
   "source": []
  },
  {
   "cell_type": "code",
   "execution_count": 1,
   "metadata": {},
   "outputs": [
    {
     "data": {
      "text/plain": [
       "'C:\\\\Users\\\\faris\\\\Documents\\\\GitHub\\\\fundemo510'"
      ]
     },
     "execution_count": 1,
     "metadata": {},
     "output_type": "execute_result"
    }
   ],
   "source": [
    "import os\n",
    "\n",
    "os.getcwd()\n",
    "#%cd 'C:\\Users\\faris\\Documents\\GitHub\\test2' ; git pull"
   ]
  },
  {
   "cell_type": "code",
   "execution_count": 2,
   "metadata": {},
   "outputs": [
    {
     "name": "stderr",
     "output_type": "stream",
     "text": [
      "[WDM] - Current google-chrome version is 84.0.4147\n",
      "[WDM] - Get LATEST driver version for 84.0.4147\n",
      "[WDM] - There is no [win32] chromedriver for browser 84.0.4147 in cache\n",
      "[WDM] - Get LATEST driver version for 84.0.4147\n"
     ]
    },
    {
     "name": "stdout",
     "output_type": "stream",
     "text": [
      " \n"
     ]
    },
    {
     "name": "stderr",
     "output_type": "stream",
     "text": [
      "[WDM] - Trying to download new driver from http://chromedriver.storage.googleapis.com/84.0.4147.30/chromedriver_win32.zip\n",
      "[WDM] - Driver has been saved in cache [C:\\Users\\faris\\.wdm\\drivers\\chromedriver\\win32\\84.0.4147.30]\n"
     ]
    }
   ],
   "source": [
    "\n",
    "from selenium import webdriver\n",
    "from webdriver_manager.chrome import ChromeDriverManager\n",
    "\n",
    "driver = webdriver.Chrome(ChromeDriverManager().install())"
   ]
  },
  {
   "cell_type": "code",
   "execution_count": 6,
   "metadata": {},
   "outputs": [],
   "source": [
    "from selenium import webdriver\n",
    "\n",
    "driver = webdriver.Chrome(\"C:/Users/faris/Documents/chromedriver.exe\")\n"
   ]
  },
  {
   "cell_type": "code",
   "execution_count": 9,
   "metadata": {},
   "outputs": [
    {
     "name": "stdout",
     "output_type": "stream",
     "text": [
      "[319512330]  Visiting requested url\n"
     ]
    },
    {
     "name": "stderr",
     "output_type": "stream",
     "text": [
      "--- Logging error ---\n",
      "Traceback (most recent call last):\n",
      "  File \"<ipython-input-9-2b2c8293e088>\", line 9, in <module>\n",
      "    'https://www.scribd.com/presentation/319512330/7020-PPT-ENG'\n",
      "  File \"C:\\Users\\faris\\Anaconda3\\envs\\faris\\lib\\site-packages\\scribd_dl\\scribd_dl.py\", line 145, in download\n",
      "    self._process_url(url)\n",
      "  File \"C:\\Users\\faris\\Anaconda3\\envs\\faris\\lib\\site-packages\\scribd_dl\\scribd_dl.py\", line 169, in _process_url\n",
      "    raise NoSuchElementException\n",
      "selenium.common.exceptions.NoSuchElementException: Message: None\n",
      "\n",
      "\n",
      "During handling of the above exception, another exception occurred:\n",
      "\n",
      "Traceback (most recent call last):\n",
      "  File \"C:\\Users\\faris\\Anaconda3\\envs\\faris\\lib\\logging\\__init__.py\", line 1025, in emit\n",
      "    msg = self.format(record)\n",
      "  File \"C:\\Users\\faris\\Anaconda3\\envs\\faris\\lib\\logging\\__init__.py\", line 869, in format\n",
      "    return fmt.format(record)\n",
      "  File \"C:\\Users\\faris\\Anaconda3\\envs\\faris\\lib\\logging\\__init__.py\", line 611, in format\n",
      "    s = self.formatMessage(record)\n",
      "  File \"C:\\Users\\faris\\Anaconda3\\envs\\faris\\lib\\logging\\__init__.py\", line 580, in formatMessage\n",
      "    return self._style.format(record)\n",
      "  File \"C:\\Users\\faris\\Anaconda3\\envs\\faris\\lib\\logging\\__init__.py\", line 422, in format\n",
      "    return self._fmt % record.__dict__\n",
      "KeyError: 'label'\n",
      "Call stack:\n",
      "  File \"C:\\Users\\faris\\Anaconda3\\envs\\faris\\lib\\runpy.py\", line 193, in _run_module_as_main\n",
      "    \"__main__\", mod_spec)\n",
      "  File \"C:\\Users\\faris\\Anaconda3\\envs\\faris\\lib\\runpy.py\", line 85, in _run_code\n",
      "    exec(code, run_globals)\n",
      "  File \"C:\\Users\\faris\\Anaconda3\\envs\\faris\\lib\\site-packages\\ipykernel_launcher.py\", line 16, in <module>\n",
      "    app.launch_new_instance()\n",
      "  File \"C:\\Users\\faris\\Anaconda3\\envs\\faris\\lib\\site-packages\\traitlets\\config\\application.py\", line 664, in launch_instance\n",
      "    app.start()\n",
      "  File \"C:\\Users\\faris\\Anaconda3\\envs\\faris\\lib\\site-packages\\ipykernel\\kernelapp.py\", line 583, in start\n",
      "    self.io_loop.start()\n",
      "  File \"C:\\Users\\faris\\Anaconda3\\envs\\faris\\lib\\site-packages\\tornado\\platform\\asyncio.py\", line 132, in start\n",
      "    self.asyncio_loop.run_forever()\n",
      "  File \"C:\\Users\\faris\\Anaconda3\\envs\\faris\\lib\\asyncio\\base_events.py\", line 541, in run_forever\n",
      "    self._run_once()\n",
      "  File \"C:\\Users\\faris\\Anaconda3\\envs\\faris\\lib\\asyncio\\base_events.py\", line 1786, in _run_once\n",
      "    handle._run()\n",
      "  File \"C:\\Users\\faris\\Anaconda3\\envs\\faris\\lib\\asyncio\\events.py\", line 88, in _run\n",
      "    self._context.run(self._callback, *self._args)\n",
      "  File \"C:\\Users\\faris\\Anaconda3\\envs\\faris\\lib\\site-packages\\tornado\\ioloop.py\", line 758, in _run_callback\n",
      "    ret = callback()\n",
      "  File \"C:\\Users\\faris\\Anaconda3\\envs\\faris\\lib\\site-packages\\tornado\\stack_context.py\", line 300, in null_wrapper\n",
      "    return fn(*args, **kwargs)\n",
      "  File \"C:\\Users\\faris\\Anaconda3\\envs\\faris\\lib\\site-packages\\tornado\\gen.py\", line 1233, in inner\n",
      "    self.run()\n",
      "  File \"C:\\Users\\faris\\Anaconda3\\envs\\faris\\lib\\site-packages\\tornado\\gen.py\", line 1147, in run\n",
      "    yielded = self.gen.send(value)\n",
      "  File \"C:\\Users\\faris\\Anaconda3\\envs\\faris\\lib\\site-packages\\ipykernel\\kernelbase.py\", line 361, in process_one\n",
      "    yield gen.maybe_future(dispatch(*args))\n",
      "  File \"C:\\Users\\faris\\Anaconda3\\envs\\faris\\lib\\site-packages\\tornado\\gen.py\", line 326, in wrapper\n",
      "    yielded = next(result)\n",
      "  File \"C:\\Users\\faris\\Anaconda3\\envs\\faris\\lib\\site-packages\\ipykernel\\kernelbase.py\", line 268, in dispatch_shell\n",
      "    yield gen.maybe_future(handler(stream, idents, msg))\n",
      "  File \"C:\\Users\\faris\\Anaconda3\\envs\\faris\\lib\\site-packages\\tornado\\gen.py\", line 326, in wrapper\n",
      "    yielded = next(result)\n",
      "  File \"C:\\Users\\faris\\Anaconda3\\envs\\faris\\lib\\site-packages\\ipykernel\\kernelbase.py\", line 541, in execute_request\n",
      "    user_expressions, allow_stdin,\n",
      "  File \"C:\\Users\\faris\\Anaconda3\\envs\\faris\\lib\\site-packages\\tornado\\gen.py\", line 326, in wrapper\n",
      "    yielded = next(result)\n",
      "  File \"C:\\Users\\faris\\Anaconda3\\envs\\faris\\lib\\site-packages\\ipykernel\\ipkernel.py\", line 300, in do_execute\n",
      "    res = shell.run_cell(code, store_history=store_history, silent=silent)\n",
      "  File \"C:\\Users\\faris\\Anaconda3\\envs\\faris\\lib\\site-packages\\ipykernel\\zmqshell.py\", line 536, in run_cell\n",
      "    return super(ZMQInteractiveShell, self).run_cell(*args, **kwargs)\n",
      "  File \"C:\\Users\\faris\\Anaconda3\\envs\\faris\\lib\\site-packages\\IPython\\core\\interactiveshell.py\", line 2858, in run_cell\n",
      "    raw_cell, store_history, silent, shell_futures)\n",
      "  File \"C:\\Users\\faris\\Anaconda3\\envs\\faris\\lib\\site-packages\\IPython\\core\\interactiveshell.py\", line 2886, in _run_cell\n",
      "    return runner(coro)\n",
      "  File \"C:\\Users\\faris\\Anaconda3\\envs\\faris\\lib\\site-packages\\IPython\\core\\async_helpers.py\", line 68, in _pseudo_sync_runner\n",
      "    coro.send(None)\n",
      "  File \"C:\\Users\\faris\\Anaconda3\\envs\\faris\\lib\\site-packages\\IPython\\core\\interactiveshell.py\", line 3063, in run_cell_async\n",
      "    interactivity=interactivity, compiler=compiler, result=result)\n",
      "  File \"C:\\Users\\faris\\Anaconda3\\envs\\faris\\lib\\site-packages\\IPython\\core\\interactiveshell.py\", line 3254, in run_ast_nodes\n",
      "    if (await self.run_code(code, result,  async_=asy)):\n",
      "  File \"C:\\Users\\faris\\Anaconda3\\envs\\faris\\lib\\site-packages\\IPython\\core\\interactiveshell.py\", line 3331, in run_code\n",
      "    exec(code_obj, self.user_global_ns, self.user_ns)\n",
      "  File \"<ipython-input-9-2b2c8293e088>\", line 9, in <module>\n",
      "    'https://www.scribd.com/presentation/319512330/7020-PPT-ENG'\n",
      "  File \"C:\\Users\\faris\\Anaconda3\\envs\\faris\\lib\\site-packages\\scribd_dl\\scribd_dl.py\", line 130, in __exit__\n",
      "    self.close()\n",
      "  File \"C:\\Users\\faris\\Anaconda3\\envs\\faris\\lib\\site-packages\\scribd_dl\\scribd_dl.py\", line 114, in close\n",
      "    self.driver.quit()\n",
      "  File \"C:\\Users\\faris\\Anaconda3\\envs\\faris\\lib\\site-packages\\selenium\\webdriver\\chrome\\webdriver.py\", line 153, in quit\n",
      "    RemoteWebDriver.quit(self)\n",
      "  File \"C:\\Users\\faris\\Anaconda3\\envs\\faris\\lib\\site-packages\\selenium\\webdriver\\remote\\webdriver.py\", line 698, in quit\n",
      "    self.execute(Command.QUIT)\n",
      "  File \"C:\\Users\\faris\\Anaconda3\\envs\\faris\\lib\\site-packages\\selenium\\webdriver\\remote\\webdriver.py\", line 319, in execute\n",
      "    response = self.command_executor.execute(driver_command, params)\n",
      "  File \"C:\\Users\\faris\\Anaconda3\\envs\\faris\\lib\\site-packages\\selenium\\webdriver\\remote\\remote_connection.py\", line 374, in execute\n",
      "    return self._request(command_info[0], url, body=data)\n",
      "  File \"C:\\Users\\faris\\Anaconda3\\envs\\faris\\lib\\site-packages\\selenium\\webdriver\\remote\\remote_connection.py\", line 397, in _request\n",
      "    resp = self._conn.request(method, url, body=body, headers=headers)\n",
      "  File \"C:\\Users\\faris\\Anaconda3\\envs\\faris\\lib\\site-packages\\urllib3\\request.py\", line 76, in request\n",
      "    method, url, fields=fields, headers=headers, **urlopen_kw\n",
      "  File \"C:\\Users\\faris\\Anaconda3\\envs\\faris\\lib\\site-packages\\urllib3\\request.py\", line 97, in request_encode_url\n",
      "    return self.urlopen(method, url, **extra_kw)\n",
      "  File \"C:\\Users\\faris\\Anaconda3\\envs\\faris\\lib\\site-packages\\urllib3\\poolmanager.py\", line 330, in urlopen\n",
      "    response = conn.urlopen(method, u.request_uri, **kw)\n",
      "  File \"C:\\Users\\faris\\Anaconda3\\envs\\faris\\lib\\site-packages\\urllib3\\connectionpool.py\", line 745, in urlopen\n",
      "    \"Retrying (%r) after connection broken by '%r': %s\", retries, err, url\n",
      "Message: \"Retrying (%r) after connection broken by '%r': %s\"\n",
      "Arguments: (Retry(total=2, connect=None, read=None, redirect=None, status=None), NewConnectionError('<urllib3.connection.HTTPConnection object at 0x000002E63E209B88>: Failed to establish a new connection: [WinError 10061] No connection could be made because the target machine actively refused it'), '/session/66ac01997e0c958608b3e6daca9a2440')\n",
      "--- Logging error ---\n",
      "Traceback (most recent call last):\n",
      "  File \"<ipython-input-9-2b2c8293e088>\", line 9, in <module>\n",
      "    'https://www.scribd.com/presentation/319512330/7020-PPT-ENG'\n",
      "  File \"C:\\Users\\faris\\Anaconda3\\envs\\faris\\lib\\site-packages\\scribd_dl\\scribd_dl.py\", line 145, in download\n",
      "    self._process_url(url)\n",
      "  File \"C:\\Users\\faris\\Anaconda3\\envs\\faris\\lib\\site-packages\\scribd_dl\\scribd_dl.py\", line 169, in _process_url\n",
      "    raise NoSuchElementException\n",
      "selenium.common.exceptions.NoSuchElementException: Message: None\n",
      "\n",
      "\n",
      "During handling of the above exception, another exception occurred:\n",
      "\n",
      "Traceback (most recent call last):\n",
      "  File \"C:\\Users\\faris\\Anaconda3\\envs\\faris\\lib\\logging\\__init__.py\", line 1025, in emit\n",
      "    msg = self.format(record)\n",
      "  File \"C:\\Users\\faris\\Anaconda3\\envs\\faris\\lib\\logging\\__init__.py\", line 869, in format\n",
      "    return fmt.format(record)\n",
      "  File \"C:\\Users\\faris\\Anaconda3\\envs\\faris\\lib\\logging\\__init__.py\", line 611, in format\n",
      "    s = self.formatMessage(record)\n",
      "  File \"C:\\Users\\faris\\Anaconda3\\envs\\faris\\lib\\logging\\__init__.py\", line 580, in formatMessage\n",
      "    return self._style.format(record)\n",
      "  File \"C:\\Users\\faris\\Anaconda3\\envs\\faris\\lib\\logging\\__init__.py\", line 422, in format\n",
      "    return self._fmt % record.__dict__\n",
      "KeyError: 'label'\n",
      "Call stack:\n",
      "  File \"C:\\Users\\faris\\Anaconda3\\envs\\faris\\lib\\runpy.py\", line 193, in _run_module_as_main\n",
      "    \"__main__\", mod_spec)\n",
      "  File \"C:\\Users\\faris\\Anaconda3\\envs\\faris\\lib\\runpy.py\", line 85, in _run_code\n",
      "    exec(code, run_globals)\n",
      "  File \"C:\\Users\\faris\\Anaconda3\\envs\\faris\\lib\\site-packages\\ipykernel_launcher.py\", line 16, in <module>\n",
      "    app.launch_new_instance()\n",
      "  File \"C:\\Users\\faris\\Anaconda3\\envs\\faris\\lib\\site-packages\\traitlets\\config\\application.py\", line 664, in launch_instance\n",
      "    app.start()\n",
      "  File \"C:\\Users\\faris\\Anaconda3\\envs\\faris\\lib\\site-packages\\ipykernel\\kernelapp.py\", line 583, in start\n",
      "    self.io_loop.start()\n",
      "  File \"C:\\Users\\faris\\Anaconda3\\envs\\faris\\lib\\site-packages\\tornado\\platform\\asyncio.py\", line 132, in start\n",
      "    self.asyncio_loop.run_forever()\n",
      "  File \"C:\\Users\\faris\\Anaconda3\\envs\\faris\\lib\\asyncio\\base_events.py\", line 541, in run_forever\n",
      "    self._run_once()\n",
      "  File \"C:\\Users\\faris\\Anaconda3\\envs\\faris\\lib\\asyncio\\base_events.py\", line 1786, in _run_once\n",
      "    handle._run()\n",
      "  File \"C:\\Users\\faris\\Anaconda3\\envs\\faris\\lib\\asyncio\\events.py\", line 88, in _run\n",
      "    self._context.run(self._callback, *self._args)\n",
      "  File \"C:\\Users\\faris\\Anaconda3\\envs\\faris\\lib\\site-packages\\tornado\\ioloop.py\", line 758, in _run_callback\n",
      "    ret = callback()\n",
      "  File \"C:\\Users\\faris\\Anaconda3\\envs\\faris\\lib\\site-packages\\tornado\\stack_context.py\", line 300, in null_wrapper\n",
      "    return fn(*args, **kwargs)\n",
      "  File \"C:\\Users\\faris\\Anaconda3\\envs\\faris\\lib\\site-packages\\tornado\\gen.py\", line 1233, in inner\n",
      "    self.run()\n",
      "  File \"C:\\Users\\faris\\Anaconda3\\envs\\faris\\lib\\site-packages\\tornado\\gen.py\", line 1147, in run\n",
      "    yielded = self.gen.send(value)\n",
      "  File \"C:\\Users\\faris\\Anaconda3\\envs\\faris\\lib\\site-packages\\ipykernel\\kernelbase.py\", line 361, in process_one\n",
      "    yield gen.maybe_future(dispatch(*args))\n",
      "  File \"C:\\Users\\faris\\Anaconda3\\envs\\faris\\lib\\site-packages\\tornado\\gen.py\", line 326, in wrapper\n",
      "    yielded = next(result)\n",
      "  File \"C:\\Users\\faris\\Anaconda3\\envs\\faris\\lib\\site-packages\\ipykernel\\kernelbase.py\", line 268, in dispatch_shell\n",
      "    yield gen.maybe_future(handler(stream, idents, msg))\n",
      "  File \"C:\\Users\\faris\\Anaconda3\\envs\\faris\\lib\\site-packages\\tornado\\gen.py\", line 326, in wrapper\n",
      "    yielded = next(result)\n",
      "  File \"C:\\Users\\faris\\Anaconda3\\envs\\faris\\lib\\site-packages\\ipykernel\\kernelbase.py\", line 541, in execute_request\n",
      "    user_expressions, allow_stdin,\n",
      "  File \"C:\\Users\\faris\\Anaconda3\\envs\\faris\\lib\\site-packages\\tornado\\gen.py\", line 326, in wrapper\n",
      "    yielded = next(result)\n",
      "  File \"C:\\Users\\faris\\Anaconda3\\envs\\faris\\lib\\site-packages\\ipykernel\\ipkernel.py\", line 300, in do_execute\n",
      "    res = shell.run_cell(code, store_history=store_history, silent=silent)\n",
      "  File \"C:\\Users\\faris\\Anaconda3\\envs\\faris\\lib\\site-packages\\ipykernel\\zmqshell.py\", line 536, in run_cell\n",
      "    return super(ZMQInteractiveShell, self).run_cell(*args, **kwargs)\n",
      "  File \"C:\\Users\\faris\\Anaconda3\\envs\\faris\\lib\\site-packages\\IPython\\core\\interactiveshell.py\", line 2858, in run_cell\n",
      "    raw_cell, store_history, silent, shell_futures)\n",
      "  File \"C:\\Users\\faris\\Anaconda3\\envs\\faris\\lib\\site-packages\\IPython\\core\\interactiveshell.py\", line 2886, in _run_cell\n",
      "    return runner(coro)\n",
      "  File \"C:\\Users\\faris\\Anaconda3\\envs\\faris\\lib\\site-packages\\IPython\\core\\async_helpers.py\", line 68, in _pseudo_sync_runner\n",
      "    coro.send(None)\n",
      "  File \"C:\\Users\\faris\\Anaconda3\\envs\\faris\\lib\\site-packages\\IPython\\core\\interactiveshell.py\", line 3063, in run_cell_async\n",
      "    interactivity=interactivity, compiler=compiler, result=result)\n",
      "  File \"C:\\Users\\faris\\Anaconda3\\envs\\faris\\lib\\site-packages\\IPython\\core\\interactiveshell.py\", line 3254, in run_ast_nodes\n",
      "    if (await self.run_code(code, result,  async_=asy)):\n",
      "  File \"C:\\Users\\faris\\Anaconda3\\envs\\faris\\lib\\site-packages\\IPython\\core\\interactiveshell.py\", line 3331, in run_code\n",
      "    exec(code_obj, self.user_global_ns, self.user_ns)\n",
      "  File \"<ipython-input-9-2b2c8293e088>\", line 9, in <module>\n",
      "    'https://www.scribd.com/presentation/319512330/7020-PPT-ENG'\n",
      "  File \"C:\\Users\\faris\\Anaconda3\\envs\\faris\\lib\\site-packages\\scribd_dl\\scribd_dl.py\", line 130, in __exit__\n",
      "    self.close()\n",
      "  File \"C:\\Users\\faris\\Anaconda3\\envs\\faris\\lib\\site-packages\\scribd_dl\\scribd_dl.py\", line 114, in close\n",
      "    self.driver.quit()\n",
      "  File \"C:\\Users\\faris\\Anaconda3\\envs\\faris\\lib\\site-packages\\selenium\\webdriver\\chrome\\webdriver.py\", line 153, in quit\n",
      "    RemoteWebDriver.quit(self)\n",
      "  File \"C:\\Users\\faris\\Anaconda3\\envs\\faris\\lib\\site-packages\\selenium\\webdriver\\remote\\webdriver.py\", line 698, in quit\n",
      "    self.execute(Command.QUIT)\n",
      "  File \"C:\\Users\\faris\\Anaconda3\\envs\\faris\\lib\\site-packages\\selenium\\webdriver\\remote\\webdriver.py\", line 319, in execute\n",
      "    response = self.command_executor.execute(driver_command, params)\n",
      "  File \"C:\\Users\\faris\\Anaconda3\\envs\\faris\\lib\\site-packages\\selenium\\webdriver\\remote\\remote_connection.py\", line 374, in execute\n",
      "    return self._request(command_info[0], url, body=data)\n",
      "  File \"C:\\Users\\faris\\Anaconda3\\envs\\faris\\lib\\site-packages\\selenium\\webdriver\\remote\\remote_connection.py\", line 397, in _request\n",
      "    resp = self._conn.request(method, url, body=body, headers=headers)\n",
      "  File \"C:\\Users\\faris\\Anaconda3\\envs\\faris\\lib\\site-packages\\urllib3\\request.py\", line 76, in request\n",
      "    method, url, fields=fields, headers=headers, **urlopen_kw\n",
      "  File \"C:\\Users\\faris\\Anaconda3\\envs\\faris\\lib\\site-packages\\urllib3\\request.py\", line 97, in request_encode_url\n",
      "    return self.urlopen(method, url, **extra_kw)\n",
      "  File \"C:\\Users\\faris\\Anaconda3\\envs\\faris\\lib\\site-packages\\urllib3\\poolmanager.py\", line 330, in urlopen\n",
      "    response = conn.urlopen(method, u.request_uri, **kw)\n",
      "  File \"C:\\Users\\faris\\Anaconda3\\envs\\faris\\lib\\site-packages\\urllib3\\connectionpool.py\", line 760, in urlopen\n",
      "    **response_kw\n",
      "  File \"C:\\Users\\faris\\Anaconda3\\envs\\faris\\lib\\site-packages\\urllib3\\connectionpool.py\", line 745, in urlopen\n",
      "    \"Retrying (%r) after connection broken by '%r': %s\", retries, err, url\n",
      "Message: \"Retrying (%r) after connection broken by '%r': %s\"\n",
      "Arguments: (Retry(total=1, connect=None, read=None, redirect=None, status=None), NewConnectionError('<urllib3.connection.HTTPConnection object at 0x000002E63E338508>: Failed to establish a new connection: [WinError 10061] No connection could be made because the target machine actively refused it'), '/session/66ac01997e0c958608b3e6daca9a2440')\n",
      "--- Logging error ---\n",
      "Traceback (most recent call last):\n",
      "  File \"<ipython-input-9-2b2c8293e088>\", line 9, in <module>\n",
      "    'https://www.scribd.com/presentation/319512330/7020-PPT-ENG'\n",
      "  File \"C:\\Users\\faris\\Anaconda3\\envs\\faris\\lib\\site-packages\\scribd_dl\\scribd_dl.py\", line 145, in download\n",
      "    self._process_url(url)\n",
      "  File \"C:\\Users\\faris\\Anaconda3\\envs\\faris\\lib\\site-packages\\scribd_dl\\scribd_dl.py\", line 169, in _process_url\n",
      "    raise NoSuchElementException\n",
      "selenium.common.exceptions.NoSuchElementException: Message: None\n",
      "\n",
      "\n",
      "During handling of the above exception, another exception occurred:\n",
      "\n",
      "Traceback (most recent call last):\n",
      "  File \"C:\\Users\\faris\\Anaconda3\\envs\\faris\\lib\\logging\\__init__.py\", line 1025, in emit\n",
      "    msg = self.format(record)\n",
      "  File \"C:\\Users\\faris\\Anaconda3\\envs\\faris\\lib\\logging\\__init__.py\", line 869, in format\n",
      "    return fmt.format(record)\n",
      "  File \"C:\\Users\\faris\\Anaconda3\\envs\\faris\\lib\\logging\\__init__.py\", line 611, in format\n",
      "    s = self.formatMessage(record)\n",
      "  File \"C:\\Users\\faris\\Anaconda3\\envs\\faris\\lib\\logging\\__init__.py\", line 580, in formatMessage\n",
      "    return self._style.format(record)\n",
      "  File \"C:\\Users\\faris\\Anaconda3\\envs\\faris\\lib\\logging\\__init__.py\", line 422, in format\n",
      "    return self._fmt % record.__dict__\n",
      "KeyError: 'label'\n",
      "Call stack:\n",
      "  File \"C:\\Users\\faris\\Anaconda3\\envs\\faris\\lib\\runpy.py\", line 193, in _run_module_as_main\n",
      "    \"__main__\", mod_spec)\n",
      "  File \"C:\\Users\\faris\\Anaconda3\\envs\\faris\\lib\\runpy.py\", line 85, in _run_code\n",
      "    exec(code, run_globals)\n",
      "  File \"C:\\Users\\faris\\Anaconda3\\envs\\faris\\lib\\site-packages\\ipykernel_launcher.py\", line 16, in <module>\n",
      "    app.launch_new_instance()\n",
      "  File \"C:\\Users\\faris\\Anaconda3\\envs\\faris\\lib\\site-packages\\traitlets\\config\\application.py\", line 664, in launch_instance\n",
      "    app.start()\n",
      "  File \"C:\\Users\\faris\\Anaconda3\\envs\\faris\\lib\\site-packages\\ipykernel\\kernelapp.py\", line 583, in start\n",
      "    self.io_loop.start()\n",
      "  File \"C:\\Users\\faris\\Anaconda3\\envs\\faris\\lib\\site-packages\\tornado\\platform\\asyncio.py\", line 132, in start\n",
      "    self.asyncio_loop.run_forever()\n",
      "  File \"C:\\Users\\faris\\Anaconda3\\envs\\faris\\lib\\asyncio\\base_events.py\", line 541, in run_forever\n",
      "    self._run_once()\n",
      "  File \"C:\\Users\\faris\\Anaconda3\\envs\\faris\\lib\\asyncio\\base_events.py\", line 1786, in _run_once\n",
      "    handle._run()\n",
      "  File \"C:\\Users\\faris\\Anaconda3\\envs\\faris\\lib\\asyncio\\events.py\", line 88, in _run\n",
      "    self._context.run(self._callback, *self._args)\n",
      "  File \"C:\\Users\\faris\\Anaconda3\\envs\\faris\\lib\\site-packages\\tornado\\ioloop.py\", line 758, in _run_callback\n",
      "    ret = callback()\n",
      "  File \"C:\\Users\\faris\\Anaconda3\\envs\\faris\\lib\\site-packages\\tornado\\stack_context.py\", line 300, in null_wrapper\n",
      "    return fn(*args, **kwargs)\n",
      "  File \"C:\\Users\\faris\\Anaconda3\\envs\\faris\\lib\\site-packages\\tornado\\gen.py\", line 1233, in inner\n",
      "    self.run()\n",
      "  File \"C:\\Users\\faris\\Anaconda3\\envs\\faris\\lib\\site-packages\\tornado\\gen.py\", line 1147, in run\n",
      "    yielded = self.gen.send(value)\n",
      "  File \"C:\\Users\\faris\\Anaconda3\\envs\\faris\\lib\\site-packages\\ipykernel\\kernelbase.py\", line 361, in process_one\n",
      "    yield gen.maybe_future(dispatch(*args))\n",
      "  File \"C:\\Users\\faris\\Anaconda3\\envs\\faris\\lib\\site-packages\\tornado\\gen.py\", line 326, in wrapper\n",
      "    yielded = next(result)\n",
      "  File \"C:\\Users\\faris\\Anaconda3\\envs\\faris\\lib\\site-packages\\ipykernel\\kernelbase.py\", line 268, in dispatch_shell\n",
      "    yield gen.maybe_future(handler(stream, idents, msg))\n",
      "  File \"C:\\Users\\faris\\Anaconda3\\envs\\faris\\lib\\site-packages\\tornado\\gen.py\", line 326, in wrapper\n",
      "    yielded = next(result)\n",
      "  File \"C:\\Users\\faris\\Anaconda3\\envs\\faris\\lib\\site-packages\\ipykernel\\kernelbase.py\", line 541, in execute_request\n",
      "    user_expressions, allow_stdin,\n",
      "  File \"C:\\Users\\faris\\Anaconda3\\envs\\faris\\lib\\site-packages\\tornado\\gen.py\", line 326, in wrapper\n",
      "    yielded = next(result)\n",
      "  File \"C:\\Users\\faris\\Anaconda3\\envs\\faris\\lib\\site-packages\\ipykernel\\ipkernel.py\", line 300, in do_execute\n",
      "    res = shell.run_cell(code, store_history=store_history, silent=silent)\n",
      "  File \"C:\\Users\\faris\\Anaconda3\\envs\\faris\\lib\\site-packages\\ipykernel\\zmqshell.py\", line 536, in run_cell\n",
      "    return super(ZMQInteractiveShell, self).run_cell(*args, **kwargs)\n",
      "  File \"C:\\Users\\faris\\Anaconda3\\envs\\faris\\lib\\site-packages\\IPython\\core\\interactiveshell.py\", line 2858, in run_cell\n",
      "    raw_cell, store_history, silent, shell_futures)\n",
      "  File \"C:\\Users\\faris\\Anaconda3\\envs\\faris\\lib\\site-packages\\IPython\\core\\interactiveshell.py\", line 2886, in _run_cell\n",
      "    return runner(coro)\n",
      "  File \"C:\\Users\\faris\\Anaconda3\\envs\\faris\\lib\\site-packages\\IPython\\core\\async_helpers.py\", line 68, in _pseudo_sync_runner\n",
      "    coro.send(None)\n",
      "  File \"C:\\Users\\faris\\Anaconda3\\envs\\faris\\lib\\site-packages\\IPython\\core\\interactiveshell.py\", line 3063, in run_cell_async\n",
      "    interactivity=interactivity, compiler=compiler, result=result)\n",
      "  File \"C:\\Users\\faris\\Anaconda3\\envs\\faris\\lib\\site-packages\\IPython\\core\\interactiveshell.py\", line 3254, in run_ast_nodes\n",
      "    if (await self.run_code(code, result,  async_=asy)):\n",
      "  File \"C:\\Users\\faris\\Anaconda3\\envs\\faris\\lib\\site-packages\\IPython\\core\\interactiveshell.py\", line 3331, in run_code\n",
      "    exec(code_obj, self.user_global_ns, self.user_ns)\n",
      "  File \"<ipython-input-9-2b2c8293e088>\", line 9, in <module>\n",
      "    'https://www.scribd.com/presentation/319512330/7020-PPT-ENG'\n",
      "  File \"C:\\Users\\faris\\Anaconda3\\envs\\faris\\lib\\site-packages\\scribd_dl\\scribd_dl.py\", line 130, in __exit__\n",
      "    self.close()\n",
      "  File \"C:\\Users\\faris\\Anaconda3\\envs\\faris\\lib\\site-packages\\scribd_dl\\scribd_dl.py\", line 114, in close\n",
      "    self.driver.quit()\n",
      "  File \"C:\\Users\\faris\\Anaconda3\\envs\\faris\\lib\\site-packages\\selenium\\webdriver\\chrome\\webdriver.py\", line 153, in quit\n",
      "    RemoteWebDriver.quit(self)\n",
      "  File \"C:\\Users\\faris\\Anaconda3\\envs\\faris\\lib\\site-packages\\selenium\\webdriver\\remote\\webdriver.py\", line 698, in quit\n",
      "    self.execute(Command.QUIT)\n",
      "  File \"C:\\Users\\faris\\Anaconda3\\envs\\faris\\lib\\site-packages\\selenium\\webdriver\\remote\\webdriver.py\", line 319, in execute\n",
      "    response = self.command_executor.execute(driver_command, params)\n",
      "  File \"C:\\Users\\faris\\Anaconda3\\envs\\faris\\lib\\site-packages\\selenium\\webdriver\\remote\\remote_connection.py\", line 374, in execute\n",
      "    return self._request(command_info[0], url, body=data)\n",
      "  File \"C:\\Users\\faris\\Anaconda3\\envs\\faris\\lib\\site-packages\\selenium\\webdriver\\remote\\remote_connection.py\", line 397, in _request\n",
      "    resp = self._conn.request(method, url, body=body, headers=headers)\n",
      "  File \"C:\\Users\\faris\\Anaconda3\\envs\\faris\\lib\\site-packages\\urllib3\\request.py\", line 76, in request\n",
      "    method, url, fields=fields, headers=headers, **urlopen_kw\n",
      "  File \"C:\\Users\\faris\\Anaconda3\\envs\\faris\\lib\\site-packages\\urllib3\\request.py\", line 97, in request_encode_url\n",
      "    return self.urlopen(method, url, **extra_kw)\n",
      "  File \"C:\\Users\\faris\\Anaconda3\\envs\\faris\\lib\\site-packages\\urllib3\\poolmanager.py\", line 330, in urlopen\n",
      "    response = conn.urlopen(method, u.request_uri, **kw)\n",
      "  File \"C:\\Users\\faris\\Anaconda3\\envs\\faris\\lib\\site-packages\\urllib3\\connectionpool.py\", line 760, in urlopen\n",
      "    **response_kw\n",
      "  File \"C:\\Users\\faris\\Anaconda3\\envs\\faris\\lib\\site-packages\\urllib3\\connectionpool.py\", line 760, in urlopen\n",
      "    **response_kw\n",
      "  File \"C:\\Users\\faris\\Anaconda3\\envs\\faris\\lib\\site-packages\\urllib3\\connectionpool.py\", line 745, in urlopen\n",
      "    \"Retrying (%r) after connection broken by '%r': %s\", retries, err, url\n",
      "Message: \"Retrying (%r) after connection broken by '%r': %s\"\n",
      "Arguments: (Retry(total=0, connect=None, read=None, redirect=None, status=None), NewConnectionError('<urllib3.connection.HTTPConnection object at 0x000002E63E338788>: Failed to establish a new connection: [WinError 10061] No connection could be made because the target machine actively refused it'), '/session/66ac01997e0c958608b3e6daca9a2440')\n"
     ]
    },
    {
     "ename": "NoSuchElementException",
     "evalue": "Message: None\n",
     "output_type": "error",
     "traceback": [
      "\u001b[1;31m---------------------------------------------------------------------------\u001b[0m",
      "\u001b[1;31mNoSuchElementException\u001b[0m                    Traceback (most recent call last)",
      "\u001b[1;32m<ipython-input-9-2b2c8293e088>\u001b[0m in \u001b[0;36m<module>\u001b[1;34m\u001b[0m\n\u001b[0;32m      7\u001b[0m \u001b[1;32mwith\u001b[0m \u001b[0mscribd_dl\u001b[0m\u001b[1;33m.\u001b[0m\u001b[0mScribdDL\u001b[0m\u001b[1;33m(\u001b[0m\u001b[1;33m)\u001b[0m \u001b[1;32mas\u001b[0m \u001b[0msession\u001b[0m\u001b[1;33m:\u001b[0m\u001b[1;33m\u001b[0m\u001b[1;33m\u001b[0m\u001b[0m\n\u001b[0;32m      8\u001b[0m     session.download([\n\u001b[1;32m----> 9\u001b[1;33m         \u001b[1;34m'https://www.scribd.com/presentation/319512330/7020-PPT-ENG'\u001b[0m\u001b[1;33m\u001b[0m\u001b[1;33m\u001b[0m\u001b[0m\n\u001b[0m\u001b[0;32m     10\u001b[0m     ])\n",
      "\u001b[1;32m~\\Anaconda3\\envs\\faris\\lib\\site-packages\\scribd_dl\\scribd_dl.py\u001b[0m in \u001b[0;36mdownload\u001b[1;34m(self, url_list, pages)\u001b[0m\n\u001b[0;32m    143\u001b[0m         \u001b[1;32melse\u001b[0m\u001b[1;33m:\u001b[0m\u001b[1;33m\u001b[0m\u001b[1;33m\u001b[0m\u001b[0m\n\u001b[0;32m    144\u001b[0m             \u001b[1;32mfor\u001b[0m \u001b[0murl\u001b[0m \u001b[1;32min\u001b[0m \u001b[0murl_list\u001b[0m\u001b[1;33m:\u001b[0m\u001b[1;33m\u001b[0m\u001b[1;33m\u001b[0m\u001b[0m\n\u001b[1;32m--> 145\u001b[1;33m                 \u001b[0mself\u001b[0m\u001b[1;33m.\u001b[0m\u001b[0m_process_url\u001b[0m\u001b[1;33m(\u001b[0m\u001b[0murl\u001b[0m\u001b[1;33m)\u001b[0m\u001b[1;33m\u001b[0m\u001b[1;33m\u001b[0m\u001b[0m\n\u001b[0m\u001b[0;32m    146\u001b[0m \u001b[1;33m\u001b[0m\u001b[0m\n\u001b[0;32m    147\u001b[0m     \u001b[1;32mdef\u001b[0m \u001b[0m_process_url\u001b[0m\u001b[1;33m(\u001b[0m\u001b[0mself\u001b[0m\u001b[1;33m,\u001b[0m \u001b[0murl\u001b[0m\u001b[1;33m)\u001b[0m\u001b[1;33m:\u001b[0m\u001b[1;33m\u001b[0m\u001b[1;33m\u001b[0m\u001b[0m\n",
      "\u001b[1;32m~\\Anaconda3\\envs\\faris\\lib\\site-packages\\scribd_dl\\scribd_dl.py\u001b[0m in \u001b[0;36m_process_url\u001b[1;34m(self, url)\u001b[0m\n\u001b[0;32m    167\u001b[0m         \u001b[1;32mif\u001b[0m \u001b[0mtotal_pages\u001b[0m \u001b[1;32mis\u001b[0m \u001b[1;32mNone\u001b[0m\u001b[1;33m:\u001b[0m\u001b[1;33m\u001b[0m\u001b[1;33m\u001b[0m\u001b[0m\n\u001b[0;32m    168\u001b[0m             \u001b[0mself\u001b[0m\u001b[1;33m.\u001b[0m\u001b[0m_cclose_browser\u001b[0m\u001b[1;33m(\u001b[0m\u001b[1;33m)\u001b[0m\u001b[1;33m\u001b[0m\u001b[1;33m\u001b[0m\u001b[0m\n\u001b[1;32m--> 169\u001b[1;33m             \u001b[1;32mraise\u001b[0m \u001b[0mNoSuchElementException\u001b[0m\u001b[1;33m\u001b[0m\u001b[1;33m\u001b[0m\u001b[0m\n\u001b[0m\u001b[0;32m    170\u001b[0m         \u001b[0mtotal_pages\u001b[0m \u001b[1;33m=\u001b[0m \u001b[0mint\u001b[0m\u001b[1;33m(\u001b[0m\u001b[0mtotal_pages\u001b[0m\u001b[1;33m.\u001b[0m\u001b[0mreplace\u001b[0m\u001b[1;33m(\u001b[0m\u001b[1;34m','\u001b[0m\u001b[1;33m,\u001b[0m \u001b[1;34m''\u001b[0m\u001b[1;33m)\u001b[0m\u001b[1;33m.\u001b[0m\u001b[0mreplace\u001b[0m\u001b[1;33m(\u001b[0m\u001b[1;34m'.'\u001b[0m\u001b[1;33m,\u001b[0m \u001b[1;34m''\u001b[0m\u001b[1;33m)\u001b[0m\u001b[1;33m)\u001b[0m\u001b[1;33m\u001b[0m\u001b[1;33m\u001b[0m\u001b[0m\n\u001b[0;32m    171\u001b[0m \u001b[1;33m\u001b[0m\u001b[0m\n",
      "\u001b[1;31mNoSuchElementException\u001b[0m: Message: None\n"
     ]
    }
   ],
   "source": [
    "import scribd_dl\n",
    "\n",
    "options = {\n",
    "    'pages': '1-3',\n",
    "    'log-level': '2'  # info\n",
    "}\n",
    "with scribd_dl.ScribdDL() as session:\n",
    "    session.download([\n",
    "        'https://www.scribd.com/presentation/319512330/7020-PPT-ENG'\n",
    "    ])"
   ]
  },
  {
   "cell_type": "code",
   "execution_count": null,
   "metadata": {},
   "outputs": [],
   "source": []
  }
 ],
 "metadata": {
  "kernelspec": {
   "display_name": "Python 3",
   "language": "python",
   "name": "python3"
  },
  "language_info": {
   "codemirror_mode": {
    "name": "ipython",
    "version": 3
   },
   "file_extension": ".py",
   "mimetype": "text/x-python",
   "name": "python",
   "nbconvert_exporter": "python",
   "pygments_lexer": "ipython3",
   "version": "3.7.7"
  }
 },
 "nbformat": 4,
 "nbformat_minor": 4
}
